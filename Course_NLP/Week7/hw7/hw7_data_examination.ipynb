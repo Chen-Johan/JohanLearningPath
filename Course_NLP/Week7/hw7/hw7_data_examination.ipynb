{
 "cells": [
  {
   "cell_type": "markdown",
   "metadata": {},
   "source": [
    "### 作业\n",
    "在提供的数据集上训练文本分类模型，对比不同模型效果\n",
    "\n",
    "电商评论分类：好评/差评\n",
    "\n",
    "训练集/验证集划分   \n",
    "\n",
    "数据分析：正负样本数，文本平均长度等\n",
    "\n",
    "实验对比3种以上模型结构的分类效果\n",
    "\n",
    "每种模型对比模型预测速度\n",
    "\n",
    "总结成表格输出\n",
    "\n",
    "\n",
    "### Notebook 目的\n",
    "观察数据，对数据进行\n",
    "\n",
    "### 目标数据\n",
    "C:\\Users\\Gurkha\\Desktop\\BaDou\\Code\\Course_NLP\\Week7\\demo\\文本分类练习.csv\n",
    "\n"
   ]
  },
  {
   "cell_type": "code",
   "execution_count": 1,
   "metadata": {},
   "outputs": [
    {
     "name": "stdout",
     "output_type": "stream",
     "text": [
      "   label           review\n",
      "0      1     很快，好吃，味道足，量大\n",
      "1      1     没有送水没有送水没有送水\n",
      "2      1         非常快，态度好。\n",
      "3      1  方便，快捷，味道可口，快递给力\n",
      "4      1     菜味道很棒！送餐很及时！\n",
      "\n",
      "\n",
      "Data length before filtering: 11987\n",
      "\n",
      "\n",
      "label\n",
      "0    7987\n",
      "1    4000\n",
      "Name: count, dtype: int64\n",
      "Max length: 463\n",
      "Mean length: 25.048552598648534\n"
     ]
    },
    {
     "data": {
      "image/png": "[encoded data removed]",
      "text/plain": [
       "<Figure size 640x480 with 1 Axes>"
      ]
     },
     "metadata": {},
     "output_type": "display_data"
    }
   ],
   "source": [
    "import pandas as pd\n",
    "import matplotlib.pyplot as plt\n",
    "\n",
    "# 读取数据\n",
    "data = pd.read_csv(r'C:\\Users\\Gurkha\\Desktop\\BaDou\\Code\\Course_NLP\\Week7\\demo\\文本分类练习.csv')\n",
    "print(data[0:5])\n",
    "\n",
    "print(\"\\n\")\n",
    "print(f\"Data length before filtering: {len(data)}\")\n",
    "print(\"\\n\")\n",
    "\n",
    "# count类别\n",
    "print(data['label'].value_counts())\n",
    "\n",
    "# review中最长文本长度\n",
    "print(f'Max length: {data['review'].map(len).max()}')\n",
    "\n",
    "# review中平均文本长度\n",
    "print(f'Mean length: {data['review'].map(len).mean()}')\n",
    "\n",
    "# review中数据分布，matplotlib绘制直方图\n",
    "plt.hist(data['review'].map(len), bins=100)\n",
    "plt.show()\n"
   ]
  },
  {
   "cell_type": "code",
   "execution_count": 2,
   "metadata": {},
   "outputs": [
    {
     "name": "stdout",
     "output_type": "stream",
     "text": [
      "review\n",
      "0      6808\n",
      "20     3271\n",
      "40     1027\n",
      "60      474\n",
      "80      171\n",
      "100      98\n",
      "120      51\n",
      "140      31\n",
      "180      17\n",
      "160      16\n",
      "200      11\n",
      "220       3\n",
      "260       3\n",
      "240       2\n",
      "300       2\n",
      "420       1\n",
      "460       1\n",
      "Name: count, dtype: int64\n"
     ]
    }
   ],
   "source": [
    "# review中数据分布，每20个长度的文本数量，打印出来\n",
    "review_lengths = data['review'].map(len) // 20 * 20\n",
    "print(review_lengths.value_counts())\n",
    "\n"
   ]
  },
  {
   "cell_type": "markdown",
   "metadata": {},
   "source": [
    "取200为最大长度，超过200的数据舍弃"
   ]
  },
  {
   "cell_type": "code",
   "execution_count": 4,
   "metadata": {},
   "outputs": [
    {
     "name": "stdout",
     "output_type": "stream",
     "text": [
      "Data length after filtering: 11852\n",
      "\n",
      "\n",
      "   label              review\n",
      "0      1      好喝！味道不错！送餐也很快！\n",
      "1      0         送餐将近两个小时，太慢\n",
      "2      0          面到了已经粘成一坨了\n",
      "3      1  味道很不错，就是油很大，吃的有点腻！\n",
      "4      1               稍微有点晚\n",
      "Train data length:9481\n",
      "Validation data length:2371\n"
     ]
    }
   ],
   "source": [
    "#取review中长度不超过120的数据，超过120的数据舍弃\n",
    "data = data[data['review'].map(len) <= 120]\n",
    "print(f\"Data length after filtering: {len(data)}\")\n",
    "\n",
    "print(\"\\n\")\n",
    "\n",
    "# 数据打乱\n",
    "data = data.sample(frac=1).reset_index(drop=True)\n",
    "print(data[0:5])\n",
    "\n",
    "# 划分训练集和测试集\n",
    "train_data = data[0: int(len(data) * 0.8)]\n",
    "valid_data = data[int(len(data) * 0.8):]\n",
    "print(f\"Train data length:{len(train_data)}\\nValidation data length:{len(valid_data)}\")\n",
    "\n",
    "# 保存训练集和测试集\n",
    "train_data.to_csv(r'C:\\Users\\Gurkha\\Desktop\\BaDou\\Code\\Course_NLP\\Week7\\hw7\\train.csv', index=False)\n",
    "valid_data.to_csv(r'C:\\Users\\Gurkha\\Desktop\\BaDou\\Code\\Course_NLP\\Week7\\hw7\\valid.csv', index=False)"
   ]
  }
 ],
 "metadata": {
  "kernelspec": {
   "display_name": "badou",
   "language": "python",
   "name": "python3"
  },
  "language_info": {
   "codemirror_mode": {
    "name": "ipython",
    "version": 3
   },
   "file_extension": ".py",
   "mimetype": "text/x-python",
   "name": "python",
   "nbconvert_exporter": "python",
   "pygments_lexer": "ipython3",
   "version": "3.12.7"
  }
 },
 "nbformat": 4,
 "nbformat_minor": 2
}
