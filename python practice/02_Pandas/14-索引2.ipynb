{
 "cells": [
  {
   "cell_type": "markdown",
   "metadata": {},
   "source": [
    "### isin where query "
   ]
  },
  {
   "cell_type": "code",
   "execution_count": 1,
   "metadata": {
    "collapsed": true
   },
   "outputs": [],
   "source": [
    "import pandas as pd\n",
    "import numpy as np"
   ]
  },
  {
   "cell_type": "code",
   "execution_count": 8,
   "metadata": {
    "collapsed": false
   },
   "outputs": [
    {
     "data": {
      "text/plain": [
       "4    0\n",
       "3    1\n",
       "2    2\n",
       "1    3\n",
       "0    4\n",
       "dtype: int64"
      ]
     },
     "execution_count": 8,
     "metadata": {},
     "output_type": "execute_result"
    }
   ],
   "source": [
    "s = pd.Series(np.arange(5),index = np.arange(5)[::-1],dtype='int64')\n",
    "s"
   ]
  },
  {
   "cell_type": "code",
   "execution_count": 9,
   "metadata": {
    "collapsed": false
   },
   "outputs": [
    {
     "data": {
      "text/plain": [
       "4    False\n",
       "3     True\n",
       "2    False\n",
       "1     True\n",
       "0     True\n",
       "dtype: bool"
      ]
     },
     "execution_count": 9,
     "metadata": {},
     "output_type": "execute_result"
    }
   ],
   "source": [
    "s.isin([1,3,4]) # 判断是否在列表中"
   ]
  },
  {
   "cell_type": "code",
   "execution_count": 10,
   "metadata": {
    "collapsed": false
   },
   "outputs": [
    {
     "data": {
      "text/plain": [
       "3    1\n",
       "1    3\n",
       "0    4\n",
       "dtype: int64"
      ]
     },
     "execution_count": 10,
     "metadata": {},
     "output_type": "execute_result"
    }
   ],
   "source": [
    "s[s.isin([1,3,4])] # 返回在列表中的值"
   ]
  },
  {
   "cell_type": "code",
   "execution_count": 11,
   "metadata": {
    "collapsed": false
   },
   "outputs": [
    {
     "data": {
      "text/plain": [
       "0  a    0\n",
       "   b    1\n",
       "   c    2\n",
       "1  a    3\n",
       "   b    4\n",
       "   c    5\n",
       "dtype: int32"
      ]
     },
     "execution_count": 11,
     "metadata": {},
     "output_type": "execute_result"
    }
   ],
   "source": [
    "s2 = pd.Series(np.arange(6), index=pd.MultiIndex.from_product([[0,1],['a','b','c']]))\n",
    "# 生成多层索引 MultiIndex.from_product 生成笛卡尔积\n",
    "s2"
   ]
  },
  {
   "cell_type": "code",
   "execution_count": 12,
   "metadata": {
    "collapsed": false
   },
   "outputs": [
    {
     "data": {
      "text/plain": [
       "0  b    1\n",
       "1  a    3\n",
       "dtype: int32"
      ]
     },
     "execution_count": 12,
     "metadata": {},
     "output_type": "execute_result"
    }
   ],
   "source": [
    "s2.iloc[s2.index.isin([(1,'a'),(0,'b')])]"
   ]
  },
  {
   "cell_type": "code",
   "execution_count": 13,
   "metadata": {
    "collapsed": false
   },
   "outputs": [
    {
     "data": {
      "text/plain": [
       "4    0\n",
       "3    1\n",
       "2    2\n",
       "1    3\n",
       "0    4\n",
       "dtype: int64"
      ]
     },
     "execution_count": 13,
     "metadata": {},
     "output_type": "execute_result"
    }
   ],
   "source": [
    "s"
   ]
  },
  {
   "cell_type": "code",
   "execution_count": 14,
   "metadata": {
    "collapsed": false
   },
   "outputs": [
    {
     "data": {
      "text/plain": [
       "1    3\n",
       "0    4\n",
       "dtype: int64"
      ]
     },
     "execution_count": 14,
     "metadata": {},
     "output_type": "execute_result"
    }
   ],
   "source": [
    "s[s>2]"
   ]
  },
  {
   "cell_type": "code",
   "execution_count": 19,
   "metadata": {
    "collapsed": true
   },
   "outputs": [],
   "source": [
    "dates = pd.date_range('20171124', periods=8) # 生成时间序列 periods 生成时间长度"
   ]
  },
  {
   "cell_type": "code",
   "execution_count": 20,
   "metadata": {
    "collapsed": false
   },
   "outputs": [],
   "source": [
    "df = pd.DataFrame(np.random.randn(8,4), index=dates, columns=['A','B','C','D'])"
   ]
  },
  {
   "cell_type": "code",
   "execution_count": 21,
   "metadata": {
    "collapsed": false
   },
   "outputs": [
    {
     "data": {
      "text/html": [
       "<div>\n",
       "<style scoped>\n",
       "    .dataframe tbody tr th:only-of-type {\n",
       "        vertical-align: middle;\n",
       "    }\n",
       "\n",
       "    .dataframe tbody tr th {\n",
       "        vertical-align: top;\n",
       "    }\n",
       "\n",
       "    .dataframe thead th {\n",
       "        text-align: right;\n",
       "    }\n",
       "</style>\n",
       "<table border=\"1\" class=\"dataframe\">\n",
       "  <thead>\n",
       "    <tr style=\"text-align: right;\">\n",
       "      <th></th>\n",
       "      <th>A</th>\n",
       "      <th>B</th>\n",
       "      <th>C</th>\n",
       "      <th>D</th>\n",
       "    </tr>\n",
       "  </thead>\n",
       "  <tbody>\n",
       "    <tr>\n",
       "      <th>2017-11-24</th>\n",
       "      <td>0.165339</td>\n",
       "      <td>0.880516</td>\n",
       "      <td>-0.729624</td>\n",
       "      <td>-0.870105</td>\n",
       "    </tr>\n",
       "    <tr>\n",
       "      <th>2017-11-25</th>\n",
       "      <td>-1.409829</td>\n",
       "      <td>0.618327</td>\n",
       "      <td>1.366328</td>\n",
       "      <td>-1.040293</td>\n",
       "    </tr>\n",
       "    <tr>\n",
       "      <th>2017-11-26</th>\n",
       "      <td>0.351443</td>\n",
       "      <td>-0.938847</td>\n",
       "      <td>1.202571</td>\n",
       "      <td>1.910891</td>\n",
       "    </tr>\n",
       "    <tr>\n",
       "      <th>2017-11-27</th>\n",
       "      <td>-0.736230</td>\n",
       "      <td>0.197144</td>\n",
       "      <td>-0.873116</td>\n",
       "      <td>-0.953314</td>\n",
       "    </tr>\n",
       "    <tr>\n",
       "      <th>2017-11-28</th>\n",
       "      <td>-0.317645</td>\n",
       "      <td>0.517722</td>\n",
       "      <td>0.047912</td>\n",
       "      <td>0.228368</td>\n",
       "    </tr>\n",
       "    <tr>\n",
       "      <th>2017-11-29</th>\n",
       "      <td>0.013609</td>\n",
       "      <td>2.293201</td>\n",
       "      <td>0.862038</td>\n",
       "      <td>0.353532</td>\n",
       "    </tr>\n",
       "    <tr>\n",
       "      <th>2017-11-30</th>\n",
       "      <td>-0.282952</td>\n",
       "      <td>-0.140349</td>\n",
       "      <td>-0.363652</td>\n",
       "      <td>0.929815</td>\n",
       "    </tr>\n",
       "    <tr>\n",
       "      <th>2017-12-01</th>\n",
       "      <td>-0.720306</td>\n",
       "      <td>-0.257747</td>\n",
       "      <td>0.278204</td>\n",
       "      <td>-0.199445</td>\n",
       "    </tr>\n",
       "  </tbody>\n",
       "</table>\n",
       "</div>"
      ],
      "text/plain": [
       "                   A         B         C         D\n",
       "2017-11-24  0.165339  0.880516 -0.729624 -0.870105\n",
       "2017-11-25 -1.409829  0.618327  1.366328 -1.040293\n",
       "2017-11-26  0.351443 -0.938847  1.202571  1.910891\n",
       "2017-11-27 -0.736230  0.197144 -0.873116 -0.953314\n",
       "2017-11-28 -0.317645  0.517722  0.047912  0.228368\n",
       "2017-11-29  0.013609  2.293201  0.862038  0.353532\n",
       "2017-11-30 -0.282952 -0.140349 -0.363652  0.929815\n",
       "2017-12-01 -0.720306 -0.257747  0.278204 -0.199445"
      ]
     },
     "execution_count": 21,
     "metadata": {},
     "output_type": "execute_result"
    }
   ],
   "source": [
    "df"
   ]
  },
  {
   "cell_type": "code",
   "execution_count": 27,
   "metadata": {
    "collapsed": false
   },
   "outputs": [
    {
     "name": "stdout",
     "output_type": "stream",
     "text": [
      "                   A\n",
      "2017-11-24  0.165339\n",
      "2017-11-25 -1.409829\n",
      "2017-11-26  0.351443\n",
      "2017-11-27 -0.736230\n",
      "2017-11-28 -0.317645\n",
      "2017-11-29  0.013609\n",
      "2017-11-30 -0.282952\n",
      "2017-12-01 -0.720306\n"
     ]
    }
   ],
   "source": [
    "# 使用 loc 方法选择列名为 'A' 的列\n",
    "result = df.loc[:, df.columns == 'A']\n",
    "print(result)"
   ]
  },
  {
   "cell_type": "code",
   "execution_count": 23,
   "metadata": {
    "collapsed": false
   },
   "outputs": [
    {
     "data": {
      "text/html": [
       "<div>\n",
       "<style scoped>\n",
       "    .dataframe tbody tr th:only-of-type {\n",
       "        vertical-align: middle;\n",
       "    }\n",
       "\n",
       "    .dataframe tbody tr th {\n",
       "        vertical-align: top;\n",
       "    }\n",
       "\n",
       "    .dataframe thead th {\n",
       "        text-align: right;\n",
       "    }\n",
       "</style>\n",
       "<table border=\"1\" class=\"dataframe\">\n",
       "  <thead>\n",
       "    <tr style=\"text-align: right;\">\n",
       "      <th></th>\n",
       "      <th>A</th>\n",
       "      <th>B</th>\n",
       "      <th>C</th>\n",
       "      <th>D</th>\n",
       "    </tr>\n",
       "  </thead>\n",
       "  <tbody>\n",
       "    <tr>\n",
       "      <th>2017-11-24</th>\n",
       "      <td>NaN</td>\n",
       "      <td>NaN</td>\n",
       "      <td>-0.729624</td>\n",
       "      <td>-0.870105</td>\n",
       "    </tr>\n",
       "    <tr>\n",
       "      <th>2017-11-25</th>\n",
       "      <td>-1.409829</td>\n",
       "      <td>NaN</td>\n",
       "      <td>NaN</td>\n",
       "      <td>-1.040293</td>\n",
       "    </tr>\n",
       "    <tr>\n",
       "      <th>2017-11-26</th>\n",
       "      <td>NaN</td>\n",
       "      <td>-0.938847</td>\n",
       "      <td>NaN</td>\n",
       "      <td>NaN</td>\n",
       "    </tr>\n",
       "    <tr>\n",
       "      <th>2017-11-27</th>\n",
       "      <td>-0.736230</td>\n",
       "      <td>NaN</td>\n",
       "      <td>-0.873116</td>\n",
       "      <td>-0.953314</td>\n",
       "    </tr>\n",
       "    <tr>\n",
       "      <th>2017-11-28</th>\n",
       "      <td>-0.317645</td>\n",
       "      <td>NaN</td>\n",
       "      <td>NaN</td>\n",
       "      <td>NaN</td>\n",
       "    </tr>\n",
       "    <tr>\n",
       "      <th>2017-11-29</th>\n",
       "      <td>NaN</td>\n",
       "      <td>NaN</td>\n",
       "      <td>NaN</td>\n",
       "      <td>NaN</td>\n",
       "    </tr>\n",
       "    <tr>\n",
       "      <th>2017-11-30</th>\n",
       "      <td>-0.282952</td>\n",
       "      <td>-0.140349</td>\n",
       "      <td>-0.363652</td>\n",
       "      <td>NaN</td>\n",
       "    </tr>\n",
       "    <tr>\n",
       "      <th>2017-12-01</th>\n",
       "      <td>-0.720306</td>\n",
       "      <td>-0.257747</td>\n",
       "      <td>NaN</td>\n",
       "      <td>-0.199445</td>\n",
       "    </tr>\n",
       "  </tbody>\n",
       "</table>\n",
       "</div>"
      ],
      "text/plain": [
       "                   A         B         C         D\n",
       "2017-11-24       NaN       NaN -0.729624 -0.870105\n",
       "2017-11-25 -1.409829       NaN       NaN -1.040293\n",
       "2017-11-26       NaN -0.938847       NaN       NaN\n",
       "2017-11-27 -0.736230       NaN -0.873116 -0.953314\n",
       "2017-11-28 -0.317645       NaN       NaN       NaN\n",
       "2017-11-29       NaN       NaN       NaN       NaN\n",
       "2017-11-30 -0.282952 -0.140349 -0.363652       NaN\n",
       "2017-12-01 -0.720306 -0.257747       NaN -0.199445"
      ]
     },
     "execution_count": 23,
     "metadata": {},
     "output_type": "execute_result"
    }
   ],
   "source": [
    "df.where(df < 0) # 将不满足条件的值替换为 NaN"
   ]
  },
  {
   "cell_type": "code",
   "execution_count": 25,
   "metadata": {
    "collapsed": false
   },
   "outputs": [
    {
     "data": {
      "text/html": [
       "<div>\n",
       "<style scoped>\n",
       "    .dataframe tbody tr th:only-of-type {\n",
       "        vertical-align: middle;\n",
       "    }\n",
       "\n",
       "    .dataframe tbody tr th {\n",
       "        vertical-align: top;\n",
       "    }\n",
       "\n",
       "    .dataframe thead th {\n",
       "        text-align: right;\n",
       "    }\n",
       "</style>\n",
       "<table border=\"1\" class=\"dataframe\">\n",
       "  <thead>\n",
       "    <tr style=\"text-align: right;\">\n",
       "      <th></th>\n",
       "      <th>A</th>\n",
       "      <th>B</th>\n",
       "      <th>C</th>\n",
       "      <th>D</th>\n",
       "    </tr>\n",
       "  </thead>\n",
       "  <tbody>\n",
       "    <tr>\n",
       "      <th>2017-11-24</th>\n",
       "      <td>-0.165339</td>\n",
       "      <td>-0.880516</td>\n",
       "      <td>-0.729624</td>\n",
       "      <td>-0.870105</td>\n",
       "    </tr>\n",
       "    <tr>\n",
       "      <th>2017-11-25</th>\n",
       "      <td>-1.409829</td>\n",
       "      <td>-0.618327</td>\n",
       "      <td>-1.366328</td>\n",
       "      <td>-1.040293</td>\n",
       "    </tr>\n",
       "    <tr>\n",
       "      <th>2017-11-26</th>\n",
       "      <td>-0.351443</td>\n",
       "      <td>-0.938847</td>\n",
       "      <td>-1.202571</td>\n",
       "      <td>-1.910891</td>\n",
       "    </tr>\n",
       "    <tr>\n",
       "      <th>2017-11-27</th>\n",
       "      <td>-0.736230</td>\n",
       "      <td>-0.197144</td>\n",
       "      <td>-0.873116</td>\n",
       "      <td>-0.953314</td>\n",
       "    </tr>\n",
       "    <tr>\n",
       "      <th>2017-11-28</th>\n",
       "      <td>-0.317645</td>\n",
       "      <td>-0.517722</td>\n",
       "      <td>-0.047912</td>\n",
       "      <td>-0.228368</td>\n",
       "    </tr>\n",
       "    <tr>\n",
       "      <th>2017-11-29</th>\n",
       "      <td>-0.013609</td>\n",
       "      <td>-2.293201</td>\n",
       "      <td>-0.862038</td>\n",
       "      <td>-0.353532</td>\n",
       "    </tr>\n",
       "    <tr>\n",
       "      <th>2017-11-30</th>\n",
       "      <td>-0.282952</td>\n",
       "      <td>-0.140349</td>\n",
       "      <td>-0.363652</td>\n",
       "      <td>-0.929815</td>\n",
       "    </tr>\n",
       "    <tr>\n",
       "      <th>2017-12-01</th>\n",
       "      <td>-0.720306</td>\n",
       "      <td>-0.257747</td>\n",
       "      <td>-0.278204</td>\n",
       "      <td>-0.199445</td>\n",
       "    </tr>\n",
       "  </tbody>\n",
       "</table>\n",
       "</div>"
      ],
      "text/plain": [
       "                   A         B         C         D\n",
       "2017-11-24 -0.165339 -0.880516 -0.729624 -0.870105\n",
       "2017-11-25 -1.409829 -0.618327 -1.366328 -1.040293\n",
       "2017-11-26 -0.351443 -0.938847 -1.202571 -1.910891\n",
       "2017-11-27 -0.736230 -0.197144 -0.873116 -0.953314\n",
       "2017-11-28 -0.317645 -0.517722 -0.047912 -0.228368\n",
       "2017-11-29 -0.013609 -2.293201 -0.862038 -0.353532\n",
       "2017-11-30 -0.282952 -0.140349 -0.363652 -0.929815\n",
       "2017-12-01 -0.720306 -0.257747 -0.278204 -0.199445"
      ]
     },
     "execution_count": 25,
     "metadata": {},
     "output_type": "execute_result"
    }
   ],
   "source": [
    "df.where(df < 0, -df) # where 为真则保留，否则替换"
   ]
  },
  {
   "cell_type": "code",
   "execution_count": 26,
   "metadata": {
    "collapsed": false
   },
   "outputs": [
    {
     "data": {
      "text/html": [
       "<div>\n",
       "<style scoped>\n",
       "    .dataframe tbody tr th:only-of-type {\n",
       "        vertical-align: middle;\n",
       "    }\n",
       "\n",
       "    .dataframe tbody tr th {\n",
       "        vertical-align: top;\n",
       "    }\n",
       "\n",
       "    .dataframe thead th {\n",
       "        text-align: right;\n",
       "    }\n",
       "</style>\n",
       "<table border=\"1\" class=\"dataframe\">\n",
       "  <thead>\n",
       "    <tr style=\"text-align: right;\">\n",
       "      <th></th>\n",
       "      <th>A</th>\n",
       "      <th>B</th>\n",
       "      <th>C</th>\n",
       "      <th>D</th>\n",
       "    </tr>\n",
       "  </thead>\n",
       "  <tbody>\n",
       "    <tr>\n",
       "      <th>2017-11-24</th>\n",
       "      <td>999.000000</td>\n",
       "      <td>999.000000</td>\n",
       "      <td>-0.729624</td>\n",
       "      <td>-0.870105</td>\n",
       "    </tr>\n",
       "    <tr>\n",
       "      <th>2017-11-25</th>\n",
       "      <td>-1.409829</td>\n",
       "      <td>999.000000</td>\n",
       "      <td>999.000000</td>\n",
       "      <td>-1.040293</td>\n",
       "    </tr>\n",
       "    <tr>\n",
       "      <th>2017-11-26</th>\n",
       "      <td>999.000000</td>\n",
       "      <td>-0.938847</td>\n",
       "      <td>999.000000</td>\n",
       "      <td>999.000000</td>\n",
       "    </tr>\n",
       "    <tr>\n",
       "      <th>2017-11-27</th>\n",
       "      <td>-0.736230</td>\n",
       "      <td>999.000000</td>\n",
       "      <td>-0.873116</td>\n",
       "      <td>-0.953314</td>\n",
       "    </tr>\n",
       "    <tr>\n",
       "      <th>2017-11-28</th>\n",
       "      <td>-0.317645</td>\n",
       "      <td>999.000000</td>\n",
       "      <td>999.000000</td>\n",
       "      <td>999.000000</td>\n",
       "    </tr>\n",
       "    <tr>\n",
       "      <th>2017-11-29</th>\n",
       "      <td>999.000000</td>\n",
       "      <td>999.000000</td>\n",
       "      <td>999.000000</td>\n",
       "      <td>999.000000</td>\n",
       "    </tr>\n",
       "    <tr>\n",
       "      <th>2017-11-30</th>\n",
       "      <td>-0.282952</td>\n",
       "      <td>-0.140349</td>\n",
       "      <td>-0.363652</td>\n",
       "      <td>999.000000</td>\n",
       "    </tr>\n",
       "    <tr>\n",
       "      <th>2017-12-01</th>\n",
       "      <td>-0.720306</td>\n",
       "      <td>-0.257747</td>\n",
       "      <td>999.000000</td>\n",
       "      <td>-0.199445</td>\n",
       "    </tr>\n",
       "  </tbody>\n",
       "</table>\n",
       "</div>"
      ],
      "text/plain": [
       "                     A           B           C           D\n",
       "2017-11-24  999.000000  999.000000   -0.729624   -0.870105\n",
       "2017-11-25   -1.409829  999.000000  999.000000   -1.040293\n",
       "2017-11-26  999.000000   -0.938847  999.000000  999.000000\n",
       "2017-11-27   -0.736230  999.000000   -0.873116   -0.953314\n",
       "2017-11-28   -0.317645  999.000000  999.000000  999.000000\n",
       "2017-11-29  999.000000  999.000000  999.000000  999.000000\n",
       "2017-11-30   -0.282952   -0.140349   -0.363652  999.000000\n",
       "2017-12-01   -0.720306   -0.257747  999.000000   -0.199445"
      ]
     },
     "execution_count": 26,
     "metadata": {},
     "output_type": "execute_result"
    }
   ],
   "source": [
    "df.where(df < 0, 999)  # where 为真则保留，否则替换"
   ]
  },
  {
   "cell_type": "code",
   "execution_count": 41,
   "metadata": {
    "collapsed": false
   },
   "outputs": [
    {
     "data": {
      "text/html": [
       "<div>\n",
       "<style scoped>\n",
       "    .dataframe tbody tr th:only-of-type {\n",
       "        vertical-align: middle;\n",
       "    }\n",
       "\n",
       "    .dataframe tbody tr th {\n",
       "        vertical-align: top;\n",
       "    }\n",
       "\n",
       "    .dataframe thead th {\n",
       "        text-align: right;\n",
       "    }\n",
       "</style>\n",
       "<table border=\"1\" class=\"dataframe\">\n",
       "  <thead>\n",
       "    <tr style=\"text-align: right;\">\n",
       "      <th></th>\n",
       "      <th>a</th>\n",
       "      <th>b</th>\n",
       "      <th>c</th>\n",
       "    </tr>\n",
       "  </thead>\n",
       "  <tbody>\n",
       "    <tr>\n",
       "      <th>0</th>\n",
       "      <td>0.152265</td>\n",
       "      <td>0.231226</td>\n",
       "      <td>0.010121</td>\n",
       "    </tr>\n",
       "    <tr>\n",
       "      <th>1</th>\n",
       "      <td>0.820599</td>\n",
       "      <td>0.485738</td>\n",
       "      <td>0.814725</td>\n",
       "    </tr>\n",
       "    <tr>\n",
       "      <th>2</th>\n",
       "      <td>0.013131</td>\n",
       "      <td>0.712803</td>\n",
       "      <td>0.822552</td>\n",
       "    </tr>\n",
       "    <tr>\n",
       "      <th>3</th>\n",
       "      <td>0.146614</td>\n",
       "      <td>0.690517</td>\n",
       "      <td>0.812730</td>\n",
       "    </tr>\n",
       "    <tr>\n",
       "      <th>4</th>\n",
       "      <td>0.759070</td>\n",
       "      <td>0.130686</td>\n",
       "      <td>0.939445</td>\n",
       "    </tr>\n",
       "    <tr>\n",
       "      <th>5</th>\n",
       "      <td>0.290198</td>\n",
       "      <td>0.649799</td>\n",
       "      <td>0.043975</td>\n",
       "    </tr>\n",
       "    <tr>\n",
       "      <th>6</th>\n",
       "      <td>0.292529</td>\n",
       "      <td>0.594978</td>\n",
       "      <td>0.176902</td>\n",
       "    </tr>\n",
       "    <tr>\n",
       "      <th>7</th>\n",
       "      <td>0.420891</td>\n",
       "      <td>0.806042</td>\n",
       "      <td>0.551612</td>\n",
       "    </tr>\n",
       "    <tr>\n",
       "      <th>8</th>\n",
       "      <td>0.206806</td>\n",
       "      <td>0.226832</td>\n",
       "      <td>0.707989</td>\n",
       "    </tr>\n",
       "    <tr>\n",
       "      <th>9</th>\n",
       "      <td>0.997279</td>\n",
       "      <td>0.319295</td>\n",
       "      <td>0.212653</td>\n",
       "    </tr>\n",
       "  </tbody>\n",
       "</table>\n",
       "</div>"
      ],
      "text/plain": [
       "          a         b         c\n",
       "0  0.152265  0.231226  0.010121\n",
       "1  0.820599  0.485738  0.814725\n",
       "2  0.013131  0.712803  0.822552\n",
       "3  0.146614  0.690517  0.812730\n",
       "4  0.759070  0.130686  0.939445\n",
       "5  0.290198  0.649799  0.043975\n",
       "6  0.292529  0.594978  0.176902\n",
       "7  0.420891  0.806042  0.551612\n",
       "8  0.206806  0.226832  0.707989\n",
       "9  0.997279  0.319295  0.212653"
      ]
     },
     "execution_count": 41,
     "metadata": {},
     "output_type": "execute_result"
    }
   ],
   "source": [
    "df = pd.DataFrame(np.random.rand(10,3), columns=list('abc'))\n",
    "df"
   ]
  },
  {
   "cell_type": "code",
   "execution_count": 42,
   "metadata": {
    "collapsed": false
   },
   "outputs": [
    {
     "data": {
      "text/html": [
       "<div>\n",
       "<style scoped>\n",
       "    .dataframe tbody tr th:only-of-type {\n",
       "        vertical-align: middle;\n",
       "    }\n",
       "\n",
       "    .dataframe tbody tr th {\n",
       "        vertical-align: top;\n",
       "    }\n",
       "\n",
       "    .dataframe thead th {\n",
       "        text-align: right;\n",
       "    }\n",
       "</style>\n",
       "<table border=\"1\" class=\"dataframe\">\n",
       "  <thead>\n",
       "    <tr style=\"text-align: right;\">\n",
       "      <th></th>\n",
       "      <th>a</th>\n",
       "      <th>b</th>\n",
       "      <th>c</th>\n",
       "    </tr>\n",
       "  </thead>\n",
       "  <tbody>\n",
       "    <tr>\n",
       "      <th>0</th>\n",
       "      <td>0.152265</td>\n",
       "      <td>0.231226</td>\n",
       "      <td>0.010121</td>\n",
       "    </tr>\n",
       "    <tr>\n",
       "      <th>2</th>\n",
       "      <td>0.013131</td>\n",
       "      <td>0.712803</td>\n",
       "      <td>0.822552</td>\n",
       "    </tr>\n",
       "    <tr>\n",
       "      <th>3</th>\n",
       "      <td>0.146614</td>\n",
       "      <td>0.690517</td>\n",
       "      <td>0.812730</td>\n",
       "    </tr>\n",
       "    <tr>\n",
       "      <th>5</th>\n",
       "      <td>0.290198</td>\n",
       "      <td>0.649799</td>\n",
       "      <td>0.043975</td>\n",
       "    </tr>\n",
       "    <tr>\n",
       "      <th>6</th>\n",
       "      <td>0.292529</td>\n",
       "      <td>0.594978</td>\n",
       "      <td>0.176902</td>\n",
       "    </tr>\n",
       "    <tr>\n",
       "      <th>7</th>\n",
       "      <td>0.420891</td>\n",
       "      <td>0.806042</td>\n",
       "      <td>0.551612</td>\n",
       "    </tr>\n",
       "    <tr>\n",
       "      <th>8</th>\n",
       "      <td>0.206806</td>\n",
       "      <td>0.226832</td>\n",
       "      <td>0.707989</td>\n",
       "    </tr>\n",
       "  </tbody>\n",
       "</table>\n",
       "</div>"
      ],
      "text/plain": [
       "          a         b         c\n",
       "0  0.152265  0.231226  0.010121\n",
       "2  0.013131  0.712803  0.822552\n",
       "3  0.146614  0.690517  0.812730\n",
       "5  0.290198  0.649799  0.043975\n",
       "6  0.292529  0.594978  0.176902\n",
       "7  0.420891  0.806042  0.551612\n",
       "8  0.206806  0.226832  0.707989"
      ]
     },
     "execution_count": 42,
     "metadata": {},
     "output_type": "execute_result"
    }
   ],
   "source": [
    "df.query('(a<b)') # query 方法查询"
   ]
  },
  {
   "cell_type": "code",
   "execution_count": 43,
   "metadata": {
    "collapsed": false
   },
   "outputs": [
    {
     "data": {
      "text/html": [
       "<div>\n",
       "<style scoped>\n",
       "    .dataframe tbody tr th:only-of-type {\n",
       "        vertical-align: middle;\n",
       "    }\n",
       "\n",
       "    .dataframe tbody tr th {\n",
       "        vertical-align: top;\n",
       "    }\n",
       "\n",
       "    .dataframe thead th {\n",
       "        text-align: right;\n",
       "    }\n",
       "</style>\n",
       "<table border=\"1\" class=\"dataframe\">\n",
       "  <thead>\n",
       "    <tr style=\"text-align: right;\">\n",
       "      <th></th>\n",
       "      <th>a</th>\n",
       "      <th>b</th>\n",
       "      <th>c</th>\n",
       "    </tr>\n",
       "  </thead>\n",
       "  <tbody>\n",
       "    <tr>\n",
       "      <th>2</th>\n",
       "      <td>0.013131</td>\n",
       "      <td>0.712803</td>\n",
       "      <td>0.822552</td>\n",
       "    </tr>\n",
       "    <tr>\n",
       "      <th>3</th>\n",
       "      <td>0.146614</td>\n",
       "      <td>0.690517</td>\n",
       "      <td>0.812730</td>\n",
       "    </tr>\n",
       "    <tr>\n",
       "      <th>8</th>\n",
       "      <td>0.206806</td>\n",
       "      <td>0.226832</td>\n",
       "      <td>0.707989</td>\n",
       "    </tr>\n",
       "  </tbody>\n",
       "</table>\n",
       "</div>"
      ],
      "text/plain": [
       "          a         b         c\n",
       "2  0.013131  0.712803  0.822552\n",
       "3  0.146614  0.690517  0.812730\n",
       "8  0.206806  0.226832  0.707989"
      ]
     },
     "execution_count": 43,
     "metadata": {},
     "output_type": "execute_result"
    }
   ],
   "source": [
    "df.query('(a<b) & (b<c)') # query 方法中使用 & | 连接多个查询条件"
   ]
  },
  {
   "cell_type": "code",
   "execution_count": null,
   "metadata": {
    "collapsed": true
   },
   "outputs": [],
   "source": []
  }
 ],
 "metadata": {
  "anaconda-cloud": {},
  "kernelspec": {
   "display_name": "badou",
   "language": "python",
   "name": "python3"
  },
  "language_info": {
   "codemirror_mode": {
    "name": "ipython",
    "version": 3
   },
   "file_extension": ".py",
   "mimetype": "text/x-python",
   "name": "python",
   "nbconvert_exporter": "python",
   "pygments_lexer": "ipython3",
   "version": "3.12.3"
  }
 },
 "nbformat": 4,
 "nbformat_minor": 1
}
