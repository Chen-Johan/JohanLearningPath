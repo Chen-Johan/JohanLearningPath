{
 "cells": [
  {
   "cell_type": "code",
   "execution_count": 1,
   "metadata": {
    "collapsed": false
   },
   "outputs": [
    {
     "data": {
      "text/html": [
       "<div>\n",
       "<style scoped>\n",
       "    .dataframe tbody tr th:only-of-type {\n",
       "        vertical-align: middle;\n",
       "    }\n",
       "\n",
       "    .dataframe tbody tr th {\n",
       "        vertical-align: top;\n",
       "    }\n",
       "\n",
       "    .dataframe thead th {\n",
       "        text-align: right;\n",
       "    }\n",
       "</style>\n",
       "<table border=\"1\" class=\"dataframe\">\n",
       "  <thead>\n",
       "    <tr style=\"text-align: right;\">\n",
       "      <th></th>\n",
       "      <th>date</th>\n",
       "      <th>number_of_game</th>\n",
       "      <th>day_of_week</th>\n",
       "      <th>v_name</th>\n",
       "      <th>v_league</th>\n",
       "      <th>v_game_number</th>\n",
       "      <th>h_name</th>\n",
       "      <th>h_league</th>\n",
       "      <th>h_game_number</th>\n",
       "      <th>v_score</th>\n",
       "      <th>...</th>\n",
       "      <th>h_player_7_name</th>\n",
       "      <th>h_player_7_def_pos</th>\n",
       "      <th>h_player_8_id</th>\n",
       "      <th>h_player_8_name</th>\n",
       "      <th>h_player_8_def_pos</th>\n",
       "      <th>h_player_9_id</th>\n",
       "      <th>h_player_9_name</th>\n",
       "      <th>h_player_9_def_pos</th>\n",
       "      <th>additional_info</th>\n",
       "      <th>acquisition_info</th>\n",
       "    </tr>\n",
       "  </thead>\n",
       "  <tbody>\n",
       "    <tr>\n",
       "      <th>0</th>\n",
       "      <td>18710504</td>\n",
       "      <td>0</td>\n",
       "      <td>Thu</td>\n",
       "      <td>CL1</td>\n",
       "      <td>na</td>\n",
       "      <td>1</td>\n",
       "      <td>FW1</td>\n",
       "      <td>na</td>\n",
       "      <td>1</td>\n",
       "      <td>0</td>\n",
       "      <td>...</td>\n",
       "      <td>Ed Mincher</td>\n",
       "      <td>7.0</td>\n",
       "      <td>mcdej101</td>\n",
       "      <td>James McDermott</td>\n",
       "      <td>8.0</td>\n",
       "      <td>kellb105</td>\n",
       "      <td>Bill Kelly</td>\n",
       "      <td>9.0</td>\n",
       "      <td>NaN</td>\n",
       "      <td>Y</td>\n",
       "    </tr>\n",
       "    <tr>\n",
       "      <th>1</th>\n",
       "      <td>18710505</td>\n",
       "      <td>0</td>\n",
       "      <td>Fri</td>\n",
       "      <td>BS1</td>\n",
       "      <td>na</td>\n",
       "      <td>1</td>\n",
       "      <td>WS3</td>\n",
       "      <td>na</td>\n",
       "      <td>1</td>\n",
       "      <td>20</td>\n",
       "      <td>...</td>\n",
       "      <td>Asa Brainard</td>\n",
       "      <td>1.0</td>\n",
       "      <td>burrh101</td>\n",
       "      <td>Henry Burroughs</td>\n",
       "      <td>9.0</td>\n",
       "      <td>berth101</td>\n",
       "      <td>Henry Berthrong</td>\n",
       "      <td>8.0</td>\n",
       "      <td>HTBF</td>\n",
       "      <td>Y</td>\n",
       "    </tr>\n",
       "    <tr>\n",
       "      <th>2</th>\n",
       "      <td>18710506</td>\n",
       "      <td>0</td>\n",
       "      <td>Sat</td>\n",
       "      <td>CL1</td>\n",
       "      <td>na</td>\n",
       "      <td>2</td>\n",
       "      <td>RC1</td>\n",
       "      <td>na</td>\n",
       "      <td>1</td>\n",
       "      <td>12</td>\n",
       "      <td>...</td>\n",
       "      <td>Pony Sager</td>\n",
       "      <td>6.0</td>\n",
       "      <td>birdg101</td>\n",
       "      <td>George Bird</td>\n",
       "      <td>7.0</td>\n",
       "      <td>stirg101</td>\n",
       "      <td>Gat Stires</td>\n",
       "      <td>9.0</td>\n",
       "      <td>NaN</td>\n",
       "      <td>Y</td>\n",
       "    </tr>\n",
       "    <tr>\n",
       "      <th>3</th>\n",
       "      <td>18710508</td>\n",
       "      <td>0</td>\n",
       "      <td>Mon</td>\n",
       "      <td>CL1</td>\n",
       "      <td>na</td>\n",
       "      <td>3</td>\n",
       "      <td>CH1</td>\n",
       "      <td>na</td>\n",
       "      <td>1</td>\n",
       "      <td>12</td>\n",
       "      <td>...</td>\n",
       "      <td>Ed Duffy</td>\n",
       "      <td>6.0</td>\n",
       "      <td>pinke101</td>\n",
       "      <td>Ed Pinkham</td>\n",
       "      <td>5.0</td>\n",
       "      <td>zettg101</td>\n",
       "      <td>George Zettlein</td>\n",
       "      <td>1.0</td>\n",
       "      <td>NaN</td>\n",
       "      <td>Y</td>\n",
       "    </tr>\n",
       "    <tr>\n",
       "      <th>4</th>\n",
       "      <td>18710509</td>\n",
       "      <td>0</td>\n",
       "      <td>Tue</td>\n",
       "      <td>BS1</td>\n",
       "      <td>na</td>\n",
       "      <td>2</td>\n",
       "      <td>TRO</td>\n",
       "      <td>na</td>\n",
       "      <td>1</td>\n",
       "      <td>9</td>\n",
       "      <td>...</td>\n",
       "      <td>Steve Bellan</td>\n",
       "      <td>5.0</td>\n",
       "      <td>pikel101</td>\n",
       "      <td>Lip Pike</td>\n",
       "      <td>3.0</td>\n",
       "      <td>cravb101</td>\n",
       "      <td>Bill Craver</td>\n",
       "      <td>6.0</td>\n",
       "      <td>HTBF</td>\n",
       "      <td>Y</td>\n",
       "    </tr>\n",
       "  </tbody>\n",
       "</table>\n",
       "<p>5 rows × 161 columns</p>\n",
       "</div>"
      ],
      "text/plain": [
       "       date  number_of_game day_of_week v_name v_league  v_game_number h_name  \\\n",
       "0  18710504               0         Thu    CL1       na              1    FW1   \n",
       "1  18710505               0         Fri    BS1       na              1    WS3   \n",
       "2  18710506               0         Sat    CL1       na              2    RC1   \n",
       "3  18710508               0         Mon    CL1       na              3    CH1   \n",
       "4  18710509               0         Tue    BS1       na              2    TRO   \n",
       "\n",
       "  h_league  h_game_number  v_score  ...  h_player_7_name  h_player_7_def_pos  \\\n",
       "0       na              1        0  ...       Ed Mincher                 7.0   \n",
       "1       na              1       20  ...     Asa Brainard                 1.0   \n",
       "2       na              1       12  ...       Pony Sager                 6.0   \n",
       "3       na              1       12  ...         Ed Duffy                 6.0   \n",
       "4       na              1        9  ...     Steve Bellan                 5.0   \n",
       "\n",
       "  h_player_8_id  h_player_8_name h_player_8_def_pos h_player_9_id  \\\n",
       "0      mcdej101  James McDermott                8.0      kellb105   \n",
       "1      burrh101  Henry Burroughs                9.0      berth101   \n",
       "2      birdg101      George Bird                7.0      stirg101   \n",
       "3      pinke101       Ed Pinkham                5.0      zettg101   \n",
       "4      pikel101         Lip Pike                3.0      cravb101   \n",
       "\n",
       "   h_player_9_name  h_player_9_def_pos  additional_info acquisition_info  \n",
       "0       Bill Kelly                 9.0              NaN                Y  \n",
       "1  Henry Berthrong                 8.0             HTBF                Y  \n",
       "2       Gat Stires                 9.0              NaN                Y  \n",
       "3  George Zettlein                 1.0              NaN                Y  \n",
       "4      Bill Craver                 6.0             HTBF                Y  \n",
       "\n",
       "[5 rows x 161 columns]"
      ]
     },
     "execution_count": 1,
     "metadata": {},
     "output_type": "execute_result"
    }
   ],
   "source": [
    "import pandas as pd\n",
    "\n",
    "# gl = pd.read_csv('./data/game_logs.csv')\n",
    "gl = pd.read_csv('./data/game_logs.csv', low_memory=False) # 来避免分块读取文件时的警告\n",
    "gl.head()"
   ]
  },
  {
   "cell_type": "code",
   "execution_count": 2,
   "metadata": {},
   "outputs": [
    {
     "data": {
      "text/plain": [
       "(171907, 161)"
      ]
     },
     "execution_count": 2,
     "metadata": {},
     "output_type": "execute_result"
    }
   ],
   "source": [
    "gl.shape"
   ]
  },
  {
   "cell_type": "code",
   "execution_count": 3,
   "metadata": {
    "collapsed": false
   },
   "outputs": [
    {
     "name": "stdout",
     "output_type": "stream",
     "text": [
      "<class 'pandas.core.frame.DataFrame'>\n",
      "RangeIndex: 171907 entries, 0 to 171906\n",
      "Columns: 161 entries, date to acquisition_info\n",
      "dtypes: float64(77), int64(6), object(78)\n",
      "memory usage: 778.5 MB\n"
     ]
    }
   ],
   "source": [
    "gl.info(memory_usage='deep') # 查看内存使用情况"
   ]
  },
  {
   "cell_type": "code",
   "execution_count": 4,
   "metadata": {
    "collapsed": false
   },
   "outputs": [
    {
     "name": "stdout",
     "output_type": "stream",
     "text": [
      "Average memory usage for float64 columns: 1.29 MB\n",
      "Average memory usage for object columns: 8.48 MB\n",
      "Average memory usage for int64 columns: 1.12 MB\n"
     ]
    }
   ],
   "source": [
    "# 查看每列的数据类型 占用内存大小\n",
    "for dtype in ['float64','object','int64']:\n",
    "    selected_dtype = gl.select_dtypes(include=[dtype])\n",
    "    mean_usage_b = selected_dtype.memory_usage(deep=True).mean() # deep=True 会考虑对象的内存使用情况\n",
    "    mean_usage_mb = mean_usage_b / 1024 ** 2\n",
    "    print(\"Average memory usage for {} columns: {:03.2f} MB\".format(dtype,mean_usage_mb))"
   ]
  },
  {
   "cell_type": "code",
   "execution_count": 5,
   "metadata": {
    "collapsed": false
   },
   "outputs": [
    {
     "name": "stdout",
     "output_type": "stream",
     "text": [
      "Machine parameters for uint8\n",
      "---------------------------------------------------------------\n",
      "min = 0\n",
      "max = 255\n",
      "---------------------------------------------------------------\n",
      "\n",
      "Machine parameters for int8\n",
      "---------------------------------------------------------------\n",
      "min = -128\n",
      "max = 127\n",
      "---------------------------------------------------------------\n",
      "\n",
      "Machine parameters for int16\n",
      "---------------------------------------------------------------\n",
      "min = -32768\n",
      "max = 32767\n",
      "---------------------------------------------------------------\n",
      "\n",
      "Machine parameters for int32\n",
      "---------------------------------------------------------------\n",
      "min = -2147483648\n",
      "max = 2147483647\n",
      "---------------------------------------------------------------\n",
      "\n",
      "Machine parameters for int64\n",
      "---------------------------------------------------------------\n",
      "min = -9223372036854775808\n",
      "max = 9223372036854775807\n",
      "---------------------------------------------------------------\n",
      "\n"
     ]
    }
   ],
   "source": [
    "import numpy as np\n",
    "int_types = [\"uint8\", \"int8\", \"int16\",\"int32\",\"int64\"]\n",
    "#unit8 无符号8位整数 int8 有符号8位整数 int16 有符号16位整数 int32 有符号32位整数 int64 有符号64位整数  \n",
    "for it in int_types:\n",
    "    print(np.iinfo(it)) # 查看各个整数类型的取值范围"
   ]
  },
  {
   "cell_type": "code",
   "execution_count": 6,
   "metadata": {
    "collapsed": false
   },
   "outputs": [
    {
     "name": "stdout",
     "output_type": "stream",
     "text": [
      "7.87 MB\n",
      "1.48 MB\n"
     ]
    }
   ],
   "source": [
    "# 通过查看整数类型的取值范围，可以选择合适的整数类型来存储数据 从而减少内存使用\n",
    "# 例如，如果一个列的最大值是255，那么可以使用uint8类型来存储数据\n",
    "# 通过downcast参数可以将数据转换为合适的整数类型\n",
    "\n",
    "def mem_usage(pandas_obj):\n",
    "    if isinstance(pandas_obj,pd.DataFrame):\n",
    "        usage_b = pandas_obj.memory_usage(deep=True).sum()\n",
    "    else: # we assume if not a df it's a series\n",
    "        usage_b = pandas_obj.memory_usage(deep=True)\n",
    "    usage_mb = usage_b / 1024 ** 2 # convert bytes to megabytes\n",
    "    return \"{:03.2f} MB\".format(usage_mb)\n",
    "\n",
    "gl_int = gl.select_dtypes(include=['int64'])\n",
    "# http://pandas.pydata.org/pandas-docs/stable/generated/pandas.to_numeric.html\n",
    "converted_int = gl_int.apply(pd.to_numeric,downcast='unsigned') # 将数据转换为无符号整数类型\n",
    "\n",
    "print(mem_usage(gl_int))\n",
    "print(mem_usage(converted_int))"
   ]
  },
  {
   "cell_type": "code",
   "execution_count": 7,
   "metadata": {
    "collapsed": false
   },
   "outputs": [
    {
     "name": "stdout",
     "output_type": "stream",
     "text": [
      "100.99 MB\n",
      "50.49 MB\n"
     ]
    }
   ],
   "source": [
    "gl_float = gl.select_dtypes(include=['float64'])\n",
    "converted_float = gl_float.apply(pd.to_numeric,downcast='float')\n",
    "\n",
    "print(mem_usage(gl_float))\n",
    "print(mem_usage(converted_float))"
   ]
  },
  {
   "cell_type": "code",
   "execution_count": 8,
   "metadata": {
    "collapsed": false
   },
   "outputs": [
    {
     "name": "stdout",
     "output_type": "stream",
     "text": [
      "778.55 MB\n",
      "721.66 MB\n"
     ]
    }
   ],
   "source": [
    "optimized_gl = gl.copy()\n",
    "\n",
    "optimized_gl[converted_int.columns] = converted_int\n",
    "optimized_gl[converted_float.columns] = converted_float\n",
    "\n",
    "print(mem_usage(gl))\n",
    "print(mem_usage(optimized_gl))"
   ]
  },
  {
   "cell_type": "code",
   "execution_count": 9,
   "metadata": {
    "collapsed": false
   },
   "outputs": [
    {
     "data": {
      "text/html": [
       "<div>\n",
       "<style scoped>\n",
       "    .dataframe tbody tr th:only-of-type {\n",
       "        vertical-align: middle;\n",
       "    }\n",
       "\n",
       "    .dataframe tbody tr th {\n",
       "        vertical-align: top;\n",
       "    }\n",
       "\n",
       "    .dataframe thead th {\n",
       "        text-align: right;\n",
       "    }\n",
       "</style>\n",
       "<table border=\"1\" class=\"dataframe\">\n",
       "  <thead>\n",
       "    <tr style=\"text-align: right;\">\n",
       "      <th></th>\n",
       "      <th>day_of_week</th>\n",
       "      <th>v_name</th>\n",
       "      <th>v_league</th>\n",
       "      <th>h_name</th>\n",
       "      <th>h_league</th>\n",
       "      <th>day_night</th>\n",
       "      <th>completion</th>\n",
       "      <th>forefeit</th>\n",
       "      <th>protest</th>\n",
       "      <th>park_id</th>\n",
       "      <th>...</th>\n",
       "      <th>h_player_6_id</th>\n",
       "      <th>h_player_6_name</th>\n",
       "      <th>h_player_7_id</th>\n",
       "      <th>h_player_7_name</th>\n",
       "      <th>h_player_8_id</th>\n",
       "      <th>h_player_8_name</th>\n",
       "      <th>h_player_9_id</th>\n",
       "      <th>h_player_9_name</th>\n",
       "      <th>additional_info</th>\n",
       "      <th>acquisition_info</th>\n",
       "    </tr>\n",
       "  </thead>\n",
       "  <tbody>\n",
       "    <tr>\n",
       "      <th>count</th>\n",
       "      <td>171907</td>\n",
       "      <td>171907</td>\n",
       "      <td>171907</td>\n",
       "      <td>171907</td>\n",
       "      <td>171907</td>\n",
       "      <td>140150</td>\n",
       "      <td>116</td>\n",
       "      <td>145</td>\n",
       "      <td>180</td>\n",
       "      <td>171907</td>\n",
       "      <td>...</td>\n",
       "      <td>140838</td>\n",
       "      <td>140838</td>\n",
       "      <td>140838</td>\n",
       "      <td>140838</td>\n",
       "      <td>140838</td>\n",
       "      <td>140838</td>\n",
       "      <td>140838</td>\n",
       "      <td>140838</td>\n",
       "      <td>1456</td>\n",
       "      <td>140841</td>\n",
       "    </tr>\n",
       "    <tr>\n",
       "      <th>unique</th>\n",
       "      <td>7</td>\n",
       "      <td>148</td>\n",
       "      <td>7</td>\n",
       "      <td>148</td>\n",
       "      <td>7</td>\n",
       "      <td>2</td>\n",
       "      <td>116</td>\n",
       "      <td>3</td>\n",
       "      <td>5</td>\n",
       "      <td>245</td>\n",
       "      <td>...</td>\n",
       "      <td>4774</td>\n",
       "      <td>4720</td>\n",
       "      <td>5253</td>\n",
       "      <td>5197</td>\n",
       "      <td>4760</td>\n",
       "      <td>4710</td>\n",
       "      <td>5193</td>\n",
       "      <td>5142</td>\n",
       "      <td>332</td>\n",
       "      <td>1</td>\n",
       "    </tr>\n",
       "    <tr>\n",
       "      <th>top</th>\n",
       "      <td>Sat</td>\n",
       "      <td>CHN</td>\n",
       "      <td>NL</td>\n",
       "      <td>CHN</td>\n",
       "      <td>NL</td>\n",
       "      <td>D</td>\n",
       "      <td>19200904,,0,6,36</td>\n",
       "      <td>H</td>\n",
       "      <td>V</td>\n",
       "      <td>STL07</td>\n",
       "      <td>...</td>\n",
       "      <td>grimc101</td>\n",
       "      <td>Charlie Grimm</td>\n",
       "      <td>grimc101</td>\n",
       "      <td>Charlie Grimm</td>\n",
       "      <td>lopea102</td>\n",
       "      <td>Al Lopez</td>\n",
       "      <td>spahw101</td>\n",
       "      <td>Warren Spahn</td>\n",
       "      <td>HTBF</td>\n",
       "      <td>Y</td>\n",
       "    </tr>\n",
       "    <tr>\n",
       "      <th>freq</th>\n",
       "      <td>28891</td>\n",
       "      <td>8870</td>\n",
       "      <td>88866</td>\n",
       "      <td>9024</td>\n",
       "      <td>88867</td>\n",
       "      <td>82724</td>\n",
       "      <td>1</td>\n",
       "      <td>69</td>\n",
       "      <td>90</td>\n",
       "      <td>7022</td>\n",
       "      <td>...</td>\n",
       "      <td>427</td>\n",
       "      <td>427</td>\n",
       "      <td>491</td>\n",
       "      <td>491</td>\n",
       "      <td>676</td>\n",
       "      <td>676</td>\n",
       "      <td>339</td>\n",
       "      <td>339</td>\n",
       "      <td>1112</td>\n",
       "      <td>140841</td>\n",
       "    </tr>\n",
       "  </tbody>\n",
       "</table>\n",
       "<p>4 rows × 78 columns</p>\n",
       "</div>"
      ],
      "text/plain": [
       "       day_of_week  v_name v_league  h_name h_league day_night  \\\n",
       "count       171907  171907   171907  171907   171907    140150   \n",
       "unique           7     148        7     148        7         2   \n",
       "top            Sat     CHN       NL     CHN       NL         D   \n",
       "freq         28891    8870    88866    9024    88867     82724   \n",
       "\n",
       "              completion forefeit protest park_id  ... h_player_6_id  \\\n",
       "count                116      145     180  171907  ...        140838   \n",
       "unique               116        3       5     245  ...          4774   \n",
       "top     19200904,,0,6,36        H       V   STL07  ...      grimc101   \n",
       "freq                   1       69      90    7022  ...           427   \n",
       "\n",
       "       h_player_6_name h_player_7_id h_player_7_name h_player_8_id  \\\n",
       "count           140838        140838          140838        140838   \n",
       "unique            4720          5253            5197          4760   \n",
       "top      Charlie Grimm      grimc101   Charlie Grimm      lopea102   \n",
       "freq               427           491             491           676   \n",
       "\n",
       "       h_player_8_name h_player_9_id h_player_9_name additional_info  \\\n",
       "count           140838        140838          140838            1456   \n",
       "unique            4710          5193            5142             332   \n",
       "top           Al Lopez      spahw101    Warren Spahn            HTBF   \n",
       "freq               676           339             339            1112   \n",
       "\n",
       "       acquisition_info  \n",
       "count            140841  \n",
       "unique                1  \n",
       "top                   Y  \n",
       "freq             140841  \n",
       "\n",
       "[4 rows x 78 columns]"
      ]
     },
     "execution_count": 9,
     "metadata": {},
     "output_type": "execute_result"
    }
   ],
   "source": [
    "# object类型的数据可以通过pandas的category类型来存储，从而减少内存使用\n",
    "gl_obj = gl.select_dtypes(include=['object']).copy()\n",
    "gl_obj.describe()"
   ]
  },
  {
   "cell_type": "code",
   "execution_count": 10,
   "metadata": {
    "collapsed": false
   },
   "outputs": [
    {
     "name": "stdout",
     "output_type": "stream",
     "text": [
      "0    Thu\n",
      "1    Fri\n",
      "2    Sat\n",
      "3    Mon\n",
      "4    Tue\n",
      "Name: day_of_week, dtype: object\n",
      "0    Thu\n",
      "1    Fri\n",
      "2    Sat\n",
      "3    Mon\n",
      "4    Tue\n",
      "Name: day_of_week, dtype: category\n",
      "Categories (7, object): ['Fri', 'Mon', 'Sat', 'Sun', 'Thu', 'Tue', 'Wed']\n"
     ]
    }
   ],
   "source": [
    "dow = gl_obj.day_of_week\n",
    "print(dow.head())\n",
    "\n",
    "dow_cat = dow.astype('category')\n",
    "print(dow_cat.head())"
   ]
  },
  {
   "cell_type": "code",
   "execution_count": 11,
   "metadata": {
    "collapsed": false
   },
   "outputs": [
    {
     "data": {
      "text/plain": [
       "0    4\n",
       "1    0\n",
       "2    2\n",
       "3    1\n",
       "4    5\n",
       "dtype: int8"
      ]
     },
     "execution_count": 11,
     "metadata": {},
     "output_type": "execute_result"
    }
   ],
   "source": [
    "dow_cat.head().cat.codes # 查看category类型的编码 \n",
    "# .cat 用来访问category类型的属性和方法 .codes 查看category类型的编码"
   ]
  },
  {
   "cell_type": "code",
   "execution_count": 12,
   "metadata": {
    "collapsed": false
   },
   "outputs": [
    {
     "name": "stdout",
     "output_type": "stream",
     "text": [
      "8.53 MB\n",
      "0.16 MB\n"
     ]
    }
   ],
   "source": [
    "print(mem_usage(dow))\n",
    "print(mem_usage(dow_cat))"
   ]
  },
  {
   "cell_type": "code",
   "execution_count": 13,
   "metadata": {
    "collapsed": true
   },
   "outputs": [],
   "source": [
    "# 将所有的object类型的数据转换为category类型\n",
    "converted_obj = pd.DataFrame()\n",
    "\n",
    "# 对每一列进行处理 如果某一列的唯一值占总数的50%以下，则转换为category类型 否则不转换\n",
    "# 如果唯一值的数量占总数的比例较低（例如低于50%），则转换为 category 类型可以显著减少内存使用。\n",
    "# 然而，如果唯一值的数量占总数的比例较高（例如超过50%），\n",
    "# 转换为 category 类型可能不会带来显著的内存节省，甚至可能增加复杂性。\n",
    "# 因此，通常在唯一值占比较低时才进行转换。\n",
    "\n",
    "for col in gl_obj.columns:\n",
    "    num_unique_values = len(gl_obj[col].unique())\n",
    "    num_total_values = len(gl_obj[col])\n",
    "    if num_unique_values / num_total_values < 0.5:\n",
    "        converted_obj.loc[:,col] = gl_obj[col].astype('category')\n",
    "    else:\n",
    "        converted_obj.loc[:,col] = gl_obj[col]"
   ]
  },
  {
   "cell_type": "code",
   "execution_count": 14,
   "metadata": {
    "collapsed": false
   },
   "outputs": [
    {
     "name": "stdout",
     "output_type": "stream",
     "text": [
      "669.69 MB\n",
      "47.70 MB\n"
     ]
    }
   ],
   "source": [
    "print(mem_usage(gl_obj))\n",
    "print(mem_usage(converted_obj))"
   ]
  },
  {
   "cell_type": "code",
   "execution_count": 15,
   "metadata": {
    "collapsed": false
   },
   "outputs": [
    {
     "data": {
      "text/plain": [
       "'99.67 MB'"
      ]
     },
     "execution_count": 15,
     "metadata": {},
     "output_type": "execute_result"
    }
   ],
   "source": [
    "# 将转换后的数据存储到原始数据中\n",
    "optimized_gl[converted_obj.columns] = converted_obj\n",
    "\n",
    "# 查看转换后的数据内存使用情况\n",
    "mem_usage(optimized_gl)"
   ]
  },
  {
   "cell_type": "code",
   "execution_count": 16,
   "metadata": {
    "collapsed": false
   },
   "outputs": [
    {
     "name": "stdout",
     "output_type": "stream",
     "text": [
      "0.66 MB\n"
     ]
    },
    {
     "data": {
      "text/plain": [
       "0    18710504\n",
       "1    18710505\n",
       "2    18710506\n",
       "3    18710508\n",
       "4    18710509\n",
       "Name: date, dtype: uint32"
      ]
     },
     "execution_count": 16,
     "metadata": {},
     "output_type": "execute_result"
    }
   ],
   "source": [
    "date = optimized_gl.date\n",
    "print(mem_usage(date))\n",
    "date.head()"
   ]
  },
  {
   "cell_type": "code",
   "execution_count": 17,
   "metadata": {},
   "outputs": [
    {
     "name": "stdout",
     "output_type": "stream",
     "text": [
      "1.31 MB\n"
     ]
    }
   ],
   "source": [
    "# 标准日期格式 \n",
    "optimized_gl['date'] = pd.to_datetime(date, format='%Y%m%d')\n",
    "print (mem_usage(optimized_gl['date']))"
   ]
  },
  {
   "cell_type": "code",
   "execution_count": 18,
   "metadata": {},
   "outputs": [
    {
     "data": {
      "text/plain": [
       "0   1871-05-04\n",
       "1   1871-05-05\n",
       "2   1871-05-06\n",
       "3   1871-05-08\n",
       "4   1871-05-09\n",
       "Name: date, dtype: datetime64[ns]"
      ]
     },
     "execution_count": 18,
     "metadata": {},
     "output_type": "execute_result"
    }
   ],
   "source": [
    "optimized_gl['date'][:5]"
   ]
  },
  {
   "cell_type": "code",
   "execution_count": 19,
   "metadata": {
    "collapsed": false
   },
   "outputs": [
    {
     "name": "stdout",
     "output_type": "stream",
     "text": [
      "100.33 MB\n"
     ]
    }
   ],
   "source": [
    "# 将日期数据转换为datetime类型，占用较大内存\n",
    "optimized_gl['date'] = pd.to_datetime(date, format='%Y%m%d')\n",
    "\n",
    "print(mem_usage(optimized_gl))"
   ]
  },
  {
   "cell_type": "code",
   "execution_count": 20,
   "metadata": {},
   "outputs": [
    {
     "data": {
      "text/plain": [
       "0   1871-05-04\n",
       "1   1871-05-05\n",
       "2   1871-05-06\n",
       "3   1871-05-08\n",
       "4   1871-05-09\n",
       "Name: date, dtype: datetime64[ns]"
      ]
     },
     "execution_count": 20,
     "metadata": {},
     "output_type": "execute_result"
    }
   ],
   "source": [
    "optimized_gl.date.head()"
   ]
  },
  {
   "cell_type": "code",
   "execution_count": 24,
   "metadata": {},
   "outputs": [
    {
     "name": "stdout",
     "output_type": "stream",
     "text": [
      "0    18710504\n",
      "1    18710505\n",
      "2    18710506\n",
      "3    18710508\n",
      "4    18710509\n",
      "Name: date, dtype: uint32\n"
     ]
    }
   ],
   "source": [
    "# 日期数据可以转换为unit32类型，从而减少内存使用\n",
    "optimized_gl['date'] = optimized_gl['date'].astype('uint32')\n",
    "print(optimized_gl['date'].head())"
   ]
  },
  {
   "cell_type": "code",
   "execution_count": 25,
   "metadata": {},
   "outputs": [
    {
     "name": "stdout",
     "output_type": "stream",
     "text": [
      "99.67 MB\n"
     ]
    }
   ],
   "source": [
    "print(mem_usage(optimized_gl))"
   ]
  }
 ],
 "metadata": {
  "anaconda-cloud": {},
  "kernelspec": {
   "display_name": "badou",
   "language": "python",
   "name": "python3"
  },
  "language_info": {
   "codemirror_mode": {
    "name": "ipython",
    "version": 3
   },
   "file_extension": ".py",
   "mimetype": "text/x-python",
   "name": "python",
   "nbconvert_exporter": "python",
   "pygments_lexer": "ipython3",
   "version": "3.12.7"
  }
 },
 "nbformat": 4,
 "nbformat_minor": 1
}
